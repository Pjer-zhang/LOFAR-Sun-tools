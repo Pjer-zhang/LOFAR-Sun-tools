{
 "cells": [
  {
   "cell_type": "code",
   "execution_count": null,
   "id": "organic-sympathy",
   "metadata": {},
   "outputs": [],
   "source": [
    "import sys\n",
    "sys.path.insert(1, '../pro/src') # make sure to use the code in this repo\n",
    "\n",
    "\n",
    "import lofarSun\n",
    "from lofarSun import lofarData\n",
    "import matplotlib.dates as mdates\n",
    "import datetime\n",
    "import matplotlib.pyplot as plt\n",
    "import numpy as np\n",
    "\n",
    "import matplotlib as mpl\n",
    "# try to use the precise epoch\n",
    "mpl.rcParams['date.epoch']='1970-01-01T00:00:00'\n",
    "try:\n",
    "    mdates.set_epoch('1970-01-01T00:00:00')\n",
    "except:\n",
    "    pass\n",
    "\n",
    "%load_ext autoreload\n",
    "%autoreload 2"
   ]
  },
  {
   "cell_type": "code",
   "execution_count": null,
   "id": "wireless-sister",
   "metadata": {},
   "outputs": [],
   "source": [
    "dataset=lofarData.LofarDataBF()\n",
    "dataset.load_fits('../../L698487.cube.fits')\n"
   ]
  },
  {
   "cell_type": "code",
   "execution_count": null,
   "id": "pending-celebration",
   "metadata": {},
   "outputs": [],
   "source": [
    "dataset.plot_bf_dyspec()"
   ]
  },
  {
   "cell_type": "code",
   "execution_count": null,
   "id": "controlled-juice",
   "metadata": {},
   "outputs": [],
   "source": []
  },
  {
   "cell_type": "code",
   "execution_count": null,
   "id": "returning-bullet",
   "metadata": {},
   "outputs": [],
   "source": [
    "freq=30\n",
    "dtime = datetime.datetime(2019, 3, 21, 14, 20, 20, 486000, tzinfo=datetime.timezone.utc)\n",
    "time=mdates.date2num(dtime)\n",
    "X,Y,data_bf,x,y,Ibeam=dataset.bf_image_by_freq_time(freq,time,asecpix=20,extrap=True,interpm='cubic')"
   ]
  },
  {
   "cell_type": "code",
   "execution_count": null,
   "id": "civilian-murray",
   "metadata": {},
   "outputs": [],
   "source": [
    "plt.imshow(data_bf)\n",
    "ax = plt.gca()\n",
    "im = ax.imshow((data_bf), cmap='gist_heat',\n",
    "  origin='lower',extent=[np.min(X),np.max(X),np.min(Y),np.max(Y)])\n",
    "ax.set_xlabel('X (Arcsec)')\n",
    "ax.set_ylabel('Y (Arcsec)')\n",
    "ax.set_aspect('equal', 'box')\n",
    "ax.contour(X,Y,data_bf/np.max(data_bf),levels=[0.5,0.9],colors=['deepskyblue','forestgreen'])\n",
    "ax.set_title('LOFAR beamform at '+str(dtime)[0:19])\n",
    "ax.plot(960*np.sin(np.arange(0,2*np.pi,0.001)),\n",
    "                        960*np.cos(np.arange(0,2*np.pi,0.001)),'w')\n",
    "\n",
    "ax.get_images()[1].set_clim([0,np.max(data_bf)])"
   ]
  },
  {
   "cell_type": "code",
   "execution_count": null,
   "id": "completed-albany",
   "metadata": {},
   "outputs": [],
   "source": [
    "dataset.data_cube.shape\n",
    "#(freq time beam)"
   ]
  },
  {
   "cell_type": "code",
   "execution_count": null,
   "id": "renewable-tongue",
   "metadata": {},
   "outputs": [],
   "source": [
    "dataset.bf_fit_gauss_source_by_idx(52, 100)"
   ]
  },
  {
   "cell_type": "code",
   "execution_count": null,
   "id": "white-client",
   "metadata": {},
   "outputs": [],
   "source": []
  }
 ],
 "metadata": {
  "kernelspec": {
   "display_name": "Python 3",
   "language": "python",
   "name": "python3"
  },
  "language_info": {
   "codemirror_mode": {
    "name": "ipython",
    "version": 3
   },
   "file_extension": ".py",
   "mimetype": "text/x-python",
   "name": "python",
   "nbconvert_exporter": "python",
   "pygments_lexer": "ipython3",
   "version": "3.8.8"
  }
 },
 "nbformat": 4,
 "nbformat_minor": 5
}
